{
 "cells": [
  {
   "cell_type": "markdown",
   "id": "49bf41da",
   "metadata": {},
   "source": [
    "DISEÑO DE CONJUNTO DE INSTRUCCIONES Y MICROARQUITECTURA"
   ]
  },
  {
   "cell_type": "markdown",
   "id": "8253d4c6",
   "metadata": {},
   "source": [
    "POLITÉCNICO GRANCOLOMBIANO"
   ]
  },
  {
   "cell_type": "markdown",
   "id": "14c62b95",
   "metadata": {},
   "source": [
    "ARQUITECTURA DEL COMPUTADOR"
   ]
  },
  {
   "cell_type": "markdown",
   "id": "0702107f",
   "metadata": {},
   "source": [
    "JUAN PABLO RODRÍGUEZ VELÁSQUEZ"
   ]
  },
  {
   "cell_type": "markdown",
   "id": "967fd052",
   "metadata": {},
   "source": [
    "## INTRODUCCIÓN"
   ]
  },
  {
   "cell_type": "markdown",
   "id": "6faedcf5",
   "metadata": {},
   "source": [
    "En el mundo actual el uso de tecnologías es cada mas evidente en diversas ramas, a tal punto, que no se contempla una dinámica diferente sin el uso de estas herramientas; en todo lado es indispensable el uso de dispositivos de cómputo, ya que brindan las herramientas necesarias para la administración de diversos procesos, pero es importante hacer un buen uso de estos dispositivos, para ello, es necesario identificar cuáles son las especificaciones necesarias que se requieren para poder tener una buena interactividad con el usuario.\n",
    "\n",
    "Cuando se menciona los requerimientos que deben tener estos dispositivos, es en alusión tanto al hardware como el software, ya que ambos deben interactuar de forma amigable para poder llevar a cabo las tareas de operación de forma correcta.\n",
    "\n",
    "Ambos componentes son necesarios de estructurar para evitar la generación de errores, fallos y una mala operabilidad con el usuario; el elemento clave está en la comunicación de ambas partes, las cuales estarán descritas en instrucciones de procesamiento del software las cuales deberán ser reflejadas a través del hardware. \n",
    "\n",
    "Es necesario reconocer la implementación de instrucciones y la microarquitectura encargada de esta comunicación, para entender cada fase del procesamiento de información y así poder generar la solución mas optima en cuanto al software y hardware que se requiere.\n",
    "\n",
    "En este documento se orientará el proceso adecuado para definir las instrucciones y microarquitectura de un procesador para determinar si un numero es primo o no.\n",
    "\n"
   ]
  },
  {
   "cell_type": "markdown",
   "id": "fdd95e13",
   "metadata": {},
   "source": [
    "# OBJETIVOS"
   ]
  },
  {
   "cell_type": "markdown",
   "id": "66fa3636",
   "metadata": {},
   "source": [
    "## OBJETIVO ESPECIFICO"
   ]
  },
  {
   "cell_type": "markdown",
   "id": "56433a0d",
   "metadata": {},
   "source": [
    "Diseñar el conjunto de instrucciones y microarquitectura de un procesador que permita determinar si un numero es primo o no."
   ]
  },
  {
   "cell_type": "markdown",
   "id": "5ecb7a45",
   "metadata": {},
   "source": [
    "## OBJETIVOS GENERALES"
   ]
  },
  {
   "cell_type": "markdown",
   "id": "dfff7236",
   "metadata": {},
   "source": [
    "\tDiseñar un algoritmo de alto nivel\n",
    "\n",
    "\tIdentificar los tipos de instrucciones que intervienen en el algoritmo.\n"
   ]
  },
  {
   "cell_type": "markdown",
   "id": "85e6cc76",
   "metadata": {},
   "source": [
    "# JUSTIFICACIÓN"
   ]
  },
  {
   "cell_type": "markdown",
   "id": "8c2c1dcf",
   "metadata": {},
   "source": [
    "Es importante tener claridad como es el proceso adecuado para el diseño de instrucciones y microarquitectura de un procesador, para un tipo de problemática especifico, el cual, dentro del proceso de ingeniería de sistemas, es de vital importancia para la generación de proyectos a mayor escala.\n",
    "\n",
    "Es fundamental el entendimiento para reconocer las instrucciones y algoritmos en alto y bajo nivel y como es el direccionamiento de las mismas a través de canales de comunicación que llegan a reflejar resultados a través del hardware, como un conjunto relacional básico de trabajo.\n",
    "\n",
    "Identificar los niveles de transformación que utilizan los sistemas computacionales para resolver un problema, dará una mejor visión para comprender el procesamiento de la información y sus posibles aplicaciones en el campo laboral. \n",
    "Finalmente reconocer el procesamiento de los datos y su traducción en diversas etapas, generara una visión más amplia sobre cada componente y los posibles fallos que se pueden generar. \n"
   ]
  },
  {
   "cell_type": "markdown",
   "id": "71b20b86",
   "metadata": {},
   "source": [
    "# GLOSARIO"
   ]
  },
  {
   "cell_type": "markdown",
   "id": "bd9117b6",
   "metadata": {},
   "source": [
    "Algoritmo: Un algoritmo es una demostración paso a paso del procesamiento de datos o la resolución de problemas\n",
    "\n",
    "Microarquitectura: representa todo el diseño del sistema completo que compone al computador en cuestión, es decir, no solo la CPU, sino el resto de hardware básico\n",
    "\n",
    "Lenguaje de bajo nivel: es aquel en el que sus instrucciones ejercen un control directo sobre el hardware y por lo tanto están condicionados por la estructura física de las computadoras que lo soportan.\n",
    "\n",
    "Lenguaje de alto nivel: se caracteriza por expresar los algoritmos de una manera adecuada a la capacidad cognitiva humana, en lugar de la capacidad con que los ejecutan las máquinas. \n",
    "\n",
    "Pseudocódigo: es una forma de expresar los distintos pasos que va a realizar un programa, de la forma más parecida a un lenguaje de programación.\n"
   ]
  },
  {
   "cell_type": "markdown",
   "id": "0d554ac4",
   "metadata": {},
   "source": [
    "# SITUACIÓN PROBLEMA"
   ]
  },
  {
   "cell_type": "markdown",
   "id": "d8f77df6",
   "metadata": {},
   "source": [
    "Se desea construir el pseudocodigo para determinar si un numero es primo o no, e identificar el tipo de instrucciones requeridas para la solución del problema de acuerdo al algoritmo creado."
   ]
  },
  {
   "cell_type": "markdown",
   "id": "3ca9c172",
   "metadata": {},
   "source": [
    "# DESARROLLO DE LA PROBLEMÁTICA "
   ]
  },
  {
   "cell_type": "markdown",
   "id": "d0367c2b",
   "metadata": {},
   "source": [
    "Para la solución de esta problemática se utilizará el programa Pseint, el cual cuenta con las herramientas para generar el pseudocodigo en diagramas de flujo."
   ]
  },
  {
   "cell_type": "markdown",
   "id": "6472c219",
   "metadata": {},
   "source": [
    "  <img src='1.jpg'>\n",
    " "
   ]
  },
  {
   "cell_type": "markdown",
   "id": "97bc6a61",
   "metadata": {},
   "source": [
    "Con las instrucciones se procederá a la construcción del diagrama de flujo."
   ]
  },
  {
   "cell_type": "markdown",
   "id": "53d8d05c",
   "metadata": {},
   "source": [
    "  <img src='2.jpg'>"
   ]
  },
  {
   "cell_type": "markdown",
   "id": "6353aecf",
   "metadata": {},
   "source": [
    "Para verificar si un número es primo se podrá utilizar también un lenguaje de alto nivel como JavaScript, para el caso, se implementará una lógica diferente, para determinar si un número es primo."
   ]
  },
  {
   "cell_type": "markdown",
   "id": "a6ced268",
   "metadata": {},
   "source": [
    "  <img src='3.jpg'>"
   ]
  },
  {
   "cell_type": "markdown",
   "id": "c765e6c0",
   "metadata": {},
   "source": [
    "Para cada una de los procesos, se podrá determinar el tipo de instrucciones utilizadas para la solución del problema, para ello, es necesario identificar los tipos de instrucciones existentes."
   ]
  },
  {
   "cell_type": "markdown",
   "id": "1532a8bc",
   "metadata": {},
   "source": [
    "# TIPOS DE INSTRUCCIONES "
   ]
  },
  {
   "cell_type": "markdown",
   "id": "0b635d57",
   "metadata": {},
   "source": [
    "Existen diversos tipos de instrucciones, pero estas dependen del tipo de instrucción que se desea analizar; dentro de las instrucciones se pueden encontrar las instrucciones de maquina y las instrucciones básicas de programación."
   ]
  },
  {
   "cell_type": "markdown",
   "id": "bbfe16fd",
   "metadata": {},
   "source": [
    "Dentro de las instrucciones de maquina se tienen las siguientes:"
   ]
  },
  {
   "cell_type": "markdown",
   "id": "65b8bfb8",
   "metadata": {},
   "source": [
    "| TIPO DE INSTRUCCIÓN | DESCRIPCIÓN |\n",
    "| :-:  | :-:  |\n",
    "| Transferencia | Envió de información de un espacio a otro, por ejemplo, de un segmento de una memoria a otro. |\n",
    "| Aritméticas | Para el cálculo de las Operaciones fundamentales como suma, resta, multiplicación y división |\n",
    "| Lógica | Para definir procedimientos según condicionales, como AND y OR.|\n",
    "| Entrada y salida | Para comunicar elementos internos con los externos|\n",
    "| Alteración de secuencia | Para cambiar el flujo de las instrucciones condicionadas por algunos parámetros asignados, por ejemplo, subrutinas.|\n"
   ]
  },
  {
   "cell_type": "markdown",
   "id": "a4e27126",
   "metadata": {},
   "source": [
    "\n"
   ]
  },
  {
   "cell_type": "markdown",
   "id": "c7a3bd3b",
   "metadata": {},
   "source": [
    "Dentro de las instrucciones básicas en programación que no dependen del lenguaje se encuentran"
   ]
  },
  {
   "cell_type": "markdown",
   "id": "7012fded",
   "metadata": {},
   "source": [
    "| TIPO DE INSTRUCCIÓN | DESCRIPCIÓN |\n",
    "| :-:  | :-:  |\n",
    "| Inicio/fin | Para apertura y cierre de una instrucción. |\n",
    "| Asignación  | Dar valor a diversas variables |\n",
    "| Lectura  | Identificar las variables asignadas|\n",
    "| Escritura | Imprimir en pantalla|\n",
    "| Bifurcación  | Flujo de instrucciones por condición o secuencia..|"
   ]
  },
  {
   "cell_type": "markdown",
   "id": "eba4fce3",
   "metadata": {},
   "source": [
    "Con la información anterior, se procederá a describir las instrucciones requeridas para los dos tipos de solución planteados."
   ]
  },
  {
   "cell_type": "markdown",
   "id": "81eb732f",
   "metadata": {},
   "source": [
    "| PROCESO| TIPO DE INSTRUCCIÓN |\n",
    "| :-:  | :-:  |\n",
    "| Algoritmo |Inicio |\n",
    "| Escribir “Ingrese un número”  | Escritura |\n",
    "| Leer a  | Lectura|\n",
    "| Cont<-0 | Asignación|\n",
    "| Para i<-1 Hasta a hacer  | Inicio, Asignación|\n",
    "| Si a MOD i=0 Entonces |Asignación|\n",
    "| Cont<-cont+1  | Fin|\n",
    "| FinSI  |Escritura|\n",
    "| Escribir a, “El número ingresado es primo” | Bifurcación |\n",
    "| SINo  | Escritura|\n",
    "| Escribir a, “El número ingresado No es primo”  | Flujo de instrucciones por condición o secuencia..|\n",
    "| FinSi | Fin|\n",
    "| Fin Algoritmo  | Fin|"
   ]
  },
  {
   "cell_type": "markdown",
   "id": "0f00f66e",
   "metadata": {},
   "source": [
    "  <img src='4.jpg'>"
   ]
  },
  {
   "cell_type": "markdown",
   "id": "1056fc0c",
   "metadata": {},
   "source": [
    "## Código en Phyton"
   ]
  },
  {
   "cell_type": "code",
   "execution_count": 18,
   "id": "12da058e",
   "metadata": {},
   "outputs": [],
   "source": [
    "def esPrimo(num):\n",
    "    if num < 1:\n",
    "        return False\n",
    "    elif num == 2:\n",
    "        return True\n",
    "    else:\n",
    "        for i in range(2, num):\n",
    "            if num % i == 0:\n",
    "                return False\n",
    "            return True\n",
    "        def app():\n",
    "            num = int(input('Escriba un número: '))\n",
    "            result = esPrimo(num)\n",
    "            if result is True:\n",
    "                print('El número es primo!!')\n",
    "            else:\n",
    "                print('El número no es primo!!')\n",
    "        app()"
   ]
  },
  {
   "cell_type": "markdown",
   "id": "bf5c0d41",
   "metadata": {},
   "source": [
    "# TAMAÑO DE LOS DATOS"
   ]
  },
  {
   "cell_type": "markdown",
   "id": "f8d8a4db",
   "metadata": {},
   "source": [
    "| VARIABLE | ALTO NIVEL |BAJO NIVEL |VALOR REPRESENTADO |\n",
    "| :-:  | :-:  |:-:  |:-:  |\n",
    "| ArrayNumeros  | Uint8Array | Enteros sin signo de 8 bits | Cadena enteros desde 231 hasta 231- 1 |\n",
    "| i | INT| Registro o bloque de memoria de 32 bits | Números enteros desde 231 hasta 231- 1|\n",
    "| valor | BOOLEAN|Registro o bloque de memoria de 1 bit |valor en True o False|\n",
    "| Número | INT|Registro o bloque de memoria de 32 bits |Números enteros desde 231 hasta 231- 1|"
   ]
  },
  {
   "cell_type": "markdown",
   "id": "05aaa3f1",
   "metadata": {},
   "source": [
    "# LISTADO DETALLADO DE INSTRUCCIONES"
   ]
  },
  {
   "cell_type": "markdown",
   "id": "fe364040",
   "metadata": {},
   "source": [
    "| INSTRUCCIÓN| ESPECIFICACIÓN|\n",
    "| :-:  | :-:  |\n",
    "| Li |Asignar valor al registro |\n",
    "| Rem | Residuo de una división|\n",
    "| Beq | Condicional de pregunta para igualdad|\n",
    "| Les | Condicional de pregunta para determianr si es menor|\n",
    "| Add |Operación de adición|\n",
    "| Mul | Operación de producto|\n",
    "| Sw |Guardar valor en una posicion de la Ram|\n",
    "| Jum |Control para el salto de línea |\n",
    "\n",
    "\n"
   ]
  },
  {
   "cell_type": "markdown",
   "id": "a069828e",
   "metadata": {},
   "source": [
    "## Nombre Mnemónico"
   ]
  },
  {
   "cell_type": "markdown",
   "id": "7126278e",
   "metadata": {},
   "source": [
    "| NOMBRE| MNEMÓNICO|PARAMETRO DE ENTRADA|\n",
    "| :-:  | :-:  | :-:  |\n",
    "| Li |\"R#\"|Registro para asignar valor|\n",
    "| Rem | \"R#a, R#b, R#c\"|Residuo-Dividendo-Divisor|\n",
    "| Beq | \"R#e,R#f\"|Operadores|\n",
    "| Les |\"R#g,R#h\"|Operadores|\n",
    "| Add | \"R#i,R#j,R#k\"|Resultado y sumandos|\n",
    "| Mul | \"R#l, R#m,R#n\"|Resultados y factores|\n",
    "| Sw |\"R#1, 0 (R#2)\"|Valor a guardar y espacio de almacenamiento en la RAM|\n",
    "| Jump |\"#\"|Para salto del programa|"
   ]
  },
  {
   "cell_type": "markdown",
   "id": "fa3270ec",
   "metadata": {},
   "source": [
    "Se debera hacer la descripción de una frase indicando qué hace en términos de lo que recibe\n",
    "como parámetro"
   ]
  },
  {
   "cell_type": "markdown",
   "id": "5f75d309",
   "metadata": {},
   "source": [
    "| DESCRIPCIÓN|\n",
    "| :-:  |\n",
    "| Li R3 6 (al registro número 3 se le da el valor de 6)|\n",
    "| Rem R1, R2, R3 (0 = residuo de 20/4, suponiendo que R2 vale 20, R3 vale 4)|\n",
    "| Beq R1,R2 (R1==R2)|\n",
    "| Les R2, R3 (R2<R3)|\n",
    "| Sum R5,R2,R3 (R5= R2+R3)|\n",
    "| Mul R6,R2,R3 (R6= R2*R3)|\n",
    "| Sw R1, 0 (R2)|\n",
    "| Jump 0111|"
   ]
  },
  {
   "cell_type": "markdown",
   "id": "8575b7b3",
   "metadata": {},
   "source": [
    "## CANTIDAD DE REGISTROS"
   ]
  },
  {
   "cell_type": "markdown",
   "id": "cfef9b22",
   "metadata": {},
   "source": [
    "La cantidad de registros sera un total de 15 con un tamaño de 8 bits; donse se utilizaran las siguientes instrucciones:\n",
    "MBR Para el registro intemedio de memoria\n",
    "MAR Para registros de memoria normal\n",
    "IR Para los registros de las instrucciones\n",
    "PC Para el contador de instrucciones.\n"
   ]
  },
  {
   "cell_type": "markdown",
   "id": "1ad1c583",
   "metadata": {},
   "source": [
    "## MODOS DE DIRECCIONAMIENTO"
   ]
  },
  {
   "cell_type": "markdown",
   "id": "f450601b",
   "metadata": {},
   "source": [
    "| INSTRUCCIÓN | DIRECCIONAMIENTO |RAZON|\n",
    "| :-:  | :-:  |:-:  |\n",
    "|  Rem R1, R2, R3 (0 = residuo de 20/4, suponiendo que R2 vale 20, R3 vale 4) | DIRECCIÓN AL REGISTRO | Efecto de la operación aritmetica |\n",
    "| Sum R5,R2,R3 ( R5= R2+R3)| DIRECCIÓN AL REGISTRO|  Efecto de la operación aritmetica |\n",
    "| Mul R6,R2,R3 (R6= R2*R3) |  DIRECCIÓN AL REGISTRO | Efecto de la operación aritmetica \n",
    "| Sw R1, 0 (R2) | TRANSFERENCIA DE DATOS|Comunicación con la RAM |\n",
    "| Jump \"#\" | PSEUDODIRECTO|Saltos en código|\n",
    "| Sw R1, 0 (R2) | INDIRECTO A REGISTRO|Interacción con la RAM|"
   ]
  },
  {
   "cell_type": "markdown",
   "id": "6d93995e",
   "metadata": {},
   "source": [
    "El objetivo es convertir el código escrito en alto nivel a lenguaje ensamblador"
   ]
  },
  {
   "cell_type": "markdown",
   "id": "aff5f870",
   "metadata": {},
   "source": [
    "## CONVERSIÓN DE LENGUAJE"
   ]
  },
  {
   "cell_type": "markdown",
   "id": "eff008fe",
   "metadata": {},
   "source": [
    "| INSTRUCCIÓN |CÓDIGO|OPERANDOS|EJEMPLO |REPRESENTACIÓN |SIGNIFICADO |\n",
    "| :-:  | :-:  |:-:  |:-:  |:-:  |:-:  |\n",
    "|li |0 | R, valor|Li R2 5 |Registro R2 5 |Asignación de valor| \n",
    "| rem|1 | R1,R2, etiqueta|R1,R2,R3| 0 = residuo de 20/4| Operacion de división| \n",
    "| beq| 10| R1,R2, etiqueta| Beq R1,R2,R3| R1==R2| Operación igual que| \n",
    "| les| 11|R1,R2, etiqueta |Les R2,R3 |R2<R3 |Operación menor que | \n",
    "|sum | 100| R1,R2, etiqueta|Sum R5,R2,R3 |R5= R2+R3 | Suma de operandos| \n",
    "|mul | 101|R1,R2, etiqueta |Mul R6,R2,R3 |R6= R2*R3 |Multiplicación de operandos | \n",
    "| sw| | 110| R, valor|Sw R1,0 (R2) |0 (R2) |Guardar un valor en espacio | \n",
    "| jump| 111|Etiqueta |Jump 0111 |Saltar al lugar |Salto de linea | \n"
   ]
  },
  {
   "cell_type": "markdown",
   "id": "6801e95a",
   "metadata": {},
   "source": [
    "Con la conversión se podra generar el listado HEXA del binario que representa el ejercio original.\n",
    "\n"
   ]
  },
  {
   "cell_type": "markdown",
   "id": "5807d6c2",
   "metadata": {},
   "source": [
    "| # | INSTRUCCION EN BINARIO |HEX|\n",
    "| :-:  | :-:  |:-:  |\n",
    "| 0 |0 |1 | \n",
    "| 1 |1000000001 | 2| \n",
    "|  2|2000000010 | 3| \n",
    "|  3| 3000000011| 4| \n",
    "|  4|4000000100 | 5| \n",
    "| 5 |5000000101 | 6| \n",
    "| 6 |6000000110 | 7| \n",
    "| 7 |7000000111 | 8| \n",
    "| 8 |10000001000 |9 | \n",
    "| 9 | 11000001001| 10| \n",
    "| 10 |12000001010 | A| \n",
    "| 11 |13000001011 |B | \n",
    "| 12 |14000001100 |C | \n",
    "| 13 |15000001101 |D | \n",
    "| 14 |16000001110 |E | \n",
    "| 15 |17000001111 |F | "
   ]
  },
  {
   "cell_type": "markdown",
   "id": "4bf6c585",
   "metadata": {},
   "source": [
    "Se debera construir la ALU la cual permitira generar la conversion entre lenguajes."
   ]
  },
  {
   "cell_type": "markdown",
   "id": "457218f1",
   "metadata": {},
   "source": [
    "# ALU PARA LA CONVERSIÓN"
   ]
  },
  {
   "cell_type": "markdown",
   "id": "2ebb59bf",
   "metadata": {},
   "source": [
    "  <img src='ALU.jpg'>"
   ]
  },
  {
   "cell_type": "markdown",
   "id": "a0ee2ff2",
   "metadata": {},
   "source": [
    " # CONCLUSIONES"
   ]
  },
  {
   "cell_type": "markdown",
   "id": "c4c9fd73",
   "metadata": {},
   "source": [
    "Es importante identificar la importancia en la definición de instrucciones que se deben llevar a cabo para la ejecución de un programa, esto permita generar una secuencia adecuada y una vista general de los procedimientos que se deben ejecutar para llegar al objetivo final. \n",
    "Estas instrucciones deben ser procesadas de tal forma que permitan identificar los elementos o arquitecturas necesarias para el ingreso de la información y la proyección de la misma.\n",
    "Se puede definir que todas las maquinas deben operar bajo instrucciones que deben ser interpretadas de tal forma que la comunicación con el cliente sea de forma eficaz y satisfactoria. \n",
    "Sin la definición de alguna arquitectura basada en instrucciones, no se podrá efectuar un control en caso de fallas, impidiendo un avance o mejoras a futuro. \n",
    "Deben existir mecanismos de interpretación de instrucciones, tanto para las maquinas, como para los clientes, de tal forma que exista una comunicación que se pueda verificar y hacer seguimiento.\n"
   ]
  },
  {
   "cell_type": "markdown",
   "id": "f4dc204c",
   "metadata": {},
   "source": [
    "Es importante reconocer como se debe realizar la conversión entre diversos lenguajes , para entender el proceso de comunicación entre dispositivos; las instrucciones de alto y bajo novel tienen diferencias significativas y estas instrucciones pueden ser interpretadas de forma diferentes; la interpretación de un lenguaje por una persona , es muy diferente a la interpretación de un lenguaje por una máquina, pero es necesario lograr la comunicación entre ambas partes, es por este motivo, la importancia de reconocer los mecanismos de conversión y los dispositivos que logran hacer este proceso para llegar a un fin común. \n",
    "La lógica de funcionamiento si suele ser  similar pero las líneas de código varían dependiendo de los intérpretes de cada lenguaje, generando cambios en los códigos, pero una similitud en la lógica del problema. \n"
   ]
  },
  {
   "cell_type": "markdown",
   "id": "b1d8c246",
   "metadata": {},
   "source": [
    "# LISTA DE REFERENCIAS"
   ]
  },
  {
   "cell_type": "markdown",
   "id": "7b0269b5",
   "metadata": {},
   "source": [
    ". (2010). SeQuencePro 08: aplicaciones y manual de instrucciones. Editorial Universidad de Alcalá. https://elibro.net/es/lc/poligran/titulos/53504.\n",
    "Ibarra Mayorga, M. F. (2009). Evolución de las arquitecturas de las computadoras. El Cid Editor | apuntes. https://elibro.net/es/lc/poligran/titulos/28671\n",
    "Martínez Amador, H. (2012). Arquitectura de computadoras: basado en competencias para nivel superior. Grupo Editorial Éxodo. https://elibro.net/es/lc/poligran/titulos/130397\n"
   ]
  }
 ],
 "metadata": {
  "kernelspec": {
   "display_name": "Python 3 (ipykernel)",
   "language": "python",
   "name": "python3"
  },
  "language_info": {
   "codemirror_mode": {
    "name": "ipython",
    "version": 3
   },
   "file_extension": ".py",
   "mimetype": "text/x-python",
   "name": "python",
   "nbconvert_exporter": "python",
   "pygments_lexer": "ipython3",
   "version": "3.9.7"
  }
 },
 "nbformat": 4,
 "nbformat_minor": 5
}
