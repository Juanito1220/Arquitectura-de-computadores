{
 "cells": [
  {
   "cell_type": "markdown",
   "id": "5e856c8e",
   "metadata": {},
   "source": [
    "DISEÑO DE CONJUNTO DE INSTRUCCIONES Y MICROARQUITECTURA"
   ]
  },
  {
   "cell_type": "markdown",
   "id": "63f4a09d",
   "metadata": {},
   "source": [
    "POLITÉCNICO GRANCOLOMBIANO"
   ]
  },
  {
   "cell_type": "markdown",
   "id": "48ecce6a",
   "metadata": {},
   "source": [
    "ARQUITECTURA DEL COMPUTADOR"
   ]
  },
  {
   "cell_type": "markdown",
   "id": "33fd8436",
   "metadata": {},
   "source": [
    "JUAN PABLO RODRÍGUEZ VELÁSQUEZ"
   ]
  },
  {
   "cell_type": "markdown",
   "id": "8c00733d",
   "metadata": {},
   "source": [
    "## INTRODUCCIÓN"
   ]
  },
  {
   "cell_type": "markdown",
   "id": "37bc9780",
   "metadata": {},
   "source": [
    "En el mundo actual el uso de tecnologías es cada mas evidente en diversas ramas, a tal punto, que no se contempla una dinámica diferente sin el uso de estas herramientas; en todo lado es indispensable el uso de dispositivos de cómputo, ya que brindan las herramientas necesarias para la administración de diversos procesos, pero es importante hacer un buen uso de estos dispositivos, para ello, es necesario identificar cuáles son las especificaciones necesarias que se requieren para poder tener una buena interactividad con el usuario.\n",
    "\n",
    "Cuando se menciona los requerimientos que deben tener estos dispositivos, es en alusión tanto al hardware como el software, ya que ambos deben interactuar de forma amigable para poder llevar a cabo las tareas de operación de forma correcta.\n",
    "\n",
    "Ambos componentes son necesarios de estructurar para evitar la generación de errores, fallos y una mala operabilidad con el usuario; el elemento clave está en la comunicación de ambas partes, las cuales estarán descritas en instrucciones de procesamiento del software las cuales deberán ser reflejadas a través del hardware. \n",
    "\n",
    "Es necesario reconocer la implementación de instrucciones y la microarquitectura encargada de esta comunicación, para entender cada fase del procesamiento de información y así poder generar la solución mas optima en cuanto al software y hardware que se requiere.\n",
    "\n",
    "En este documento se orientará el proceso adecuado para definir las instrucciones y microarquitectura de un procesador para determinar si un numero es primo o no.\n",
    "\n"
   ]
  },
  {
   "cell_type": "markdown",
   "id": "78fbe00c",
   "metadata": {},
   "source": [
    "# OBJETIVOS"
   ]
  },
  {
   "cell_type": "markdown",
   "id": "d9910b06",
   "metadata": {},
   "source": [
    "## OBJETIVO ESPECIFICO"
   ]
  },
  {
   "cell_type": "markdown",
   "id": "96669343",
   "metadata": {},
   "source": [
    "Diseñar el conjunto de instrucciones y microarquitectura de un procesador que permita determinar si un numero es primo o no."
   ]
  },
  {
   "cell_type": "markdown",
   "id": "56a0d0bd",
   "metadata": {},
   "source": [
    "## OBJETIVOS GENERALES"
   ]
  },
  {
   "cell_type": "markdown",
   "id": "a3c69921",
   "metadata": {},
   "source": [
    "\tDiseñar un algoritmo de alto nivel\n",
    "\n",
    "\tIdentificar los tipos de instrucciones que intervienen en el algoritmo.\n"
   ]
  },
  {
   "cell_type": "markdown",
   "id": "f062aceb",
   "metadata": {},
   "source": [
    "# JUSTIFICACIÓN"
   ]
  },
  {
   "cell_type": "markdown",
   "id": "2b6b7439",
   "metadata": {},
   "source": [
    "Es importante tener claridad como es el proceso adecuado para el diseño de instrucciones y microarquitectura de un procesador, para un tipo de problemática especifico, el cual, dentro del proceso de ingeniería de sistemas, es de vital importancia para la generación de proyectos a mayor escala.\n",
    "\n",
    "Es fundamental el entendimiento para reconocer las instrucciones y algoritmos en alto y bajo nivel y como es el direccionamiento de las mismas a través de canales de comunicación que llegan a reflejar resultados a través del hardware, como un conjunto relacional básico de trabajo.\n",
    "\n",
    "Identificar los niveles de transformación que utilizan los sistemas computacionales para resolver un problema, dará una mejor visión para comprender el procesamiento de la información y sus posibles aplicaciones en el campo laboral. \n",
    "Finalmente reconocer el procesamiento de los datos y su traducción en diversas etapas, generara una visión más amplia sobre cada componente y los posibles fallos que se pueden generar. \n"
   ]
  },
  {
   "cell_type": "markdown",
   "id": "bd878450",
   "metadata": {},
   "source": [
    "# GLOSARIO"
   ]
  },
  {
   "cell_type": "markdown",
   "id": "3bc493cd",
   "metadata": {},
   "source": [
    "Algoritmo: Un algoritmo es una demostración paso a paso del procesamiento de datos o la resolución de problemas\n",
    "\n",
    "Microarquitectura: representa todo el diseño del sistema completo que compone al computador en cuestión, es decir, no solo la CPU, sino el resto de hardware básico\n",
    "\n",
    "Lenguaje de bajo nivel: es aquel en el que sus instrucciones ejercen un control directo sobre el hardware y por lo tanto están condicionados por la estructura física de las computadoras que lo soportan.\n",
    "\n",
    "Lenguaje de alto nivel: se caracteriza por expresar los algoritmos de una manera adecuada a la capacidad cognitiva humana, en lugar de la capacidad con que los ejecutan las máquinas. \n",
    "\n",
    "Pseudocódigo: es una forma de expresar los distintos pasos que va a realizar un programa, de la forma más parecida a un lenguaje de programación.\n"
   ]
  },
  {
   "cell_type": "markdown",
   "id": "3feaab66",
   "metadata": {},
   "source": [
    "# SITUACIÓN PROBLEMA"
   ]
  },
  {
   "cell_type": "markdown",
   "id": "cba563fa",
   "metadata": {},
   "source": [
    "Se desea construir el pseudocodigo para determinar si un numero es primo o no, e identificar el tipo de instrucciones requeridas para la solución del problema de acuerdo al algoritmo creado."
   ]
  },
  {
   "cell_type": "markdown",
   "id": "8f909eb7",
   "metadata": {},
   "source": [
    "# DESARROLLO DE LA PROBLEMÁTICA "
   ]
  },
  {
   "cell_type": "markdown",
   "id": "c9b48d7d",
   "metadata": {},
   "source": [
    "Para la solución de esta problemática se utilizará el programa Pseint, el cual cuenta con las herramientas para generar el pseudocodigo en diagramas de flujo."
   ]
  },
  {
   "cell_type": "markdown",
   "id": "6bb22449",
   "metadata": {},
   "source": [
    "  <img src='1.jpge'>\n",
    " "
   ]
  },
  {
   "cell_type": "code",
   "execution_count": null,
   "id": "dd4dc657",
   "metadata": {},
   "outputs": [],
   "source": []
  }
 ],
 "metadata": {
  "kernelspec": {
   "display_name": "Python 3 (ipykernel)",
   "language": "python",
   "name": "python3"
  },
  "language_info": {
   "codemirror_mode": {
    "name": "ipython",
    "version": 3
   },
   "file_extension": ".py",
   "mimetype": "text/x-python",
   "name": "python",
   "nbconvert_exporter": "python",
   "pygments_lexer": "ipython3",
   "version": "3.9.7"
  }
 },
 "nbformat": 4,
 "nbformat_minor": 5
}
